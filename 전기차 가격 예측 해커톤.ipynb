{
 "cells": [
  {
   "cell_type": "markdown",
   "metadata": {},
   "source": [
    "# 전기차 가격 예측"
   ]
  },
  {
   "cell_type": "markdown",
   "metadata": {},
   "source": [
    "## import libraries"
   ]
  },
  {
   "cell_type": "code",
   "execution_count": null,
   "metadata": {},
   "outputs": [],
   "source": [
    "import pandas as pd\n",
    "import numpy as np\n",
    "from sklearn.model_selection import KFold\n",
    "from sklearn.metrics import mean_squared_error\n",
    "from sklearn.preprocessing import LabelEncoder\n",
    "import xgboost as xgb\n",
    "from catboost import CatBoostRegressor\n",
    "import optuna"
   ]
  },
  {
   "cell_type": "markdown",
   "metadata": {},
   "source": [
    "## 1. 데이터 로드"
   ]
  },
  {
   "cell_type": "code",
   "execution_count": null,
   "metadata": {},
   "outputs": [],
   "source": [
    "train_data = pd.read_csv('data/train.csv')\n",
    "test_data = pd.read_csv('data/test.csv')"
   ]
  },
  {
   "cell_type": "markdown",
   "metadata": {},
   "source": [
    "## 2. 데이터 전처리"
   ]
  },
  {
   "cell_type": "code",
   "execution_count": null,
   "metadata": {},
   "outputs": [],
   "source": [
    "# 2-1. 배터리용량 결측치 처리 (같은 모델의 배터리용량은 항상 같음)\n",
    "train_data['배터리용량'] = train_data.groupby('모델')['배터리용량'].transform(lambda x: x.fillna(x.mean()))\n",
    "test_data['배터리용량'] = test_data.groupby('모델')['배터리용량'].transform(lambda x: x.fillna(x.mean()))"
   ]
  },
  {
   "cell_type": "code",
   "execution_count": null,
   "metadata": {},
   "outputs": [],
   "source": [
    "# 2-2. 사고이력 라벨 인코딩\n",
    "label_encoder = LabelEncoder()\n",
    "train_data['사고이력'] = label_encoder.fit_transform(train_data['사고이력'])\n",
    "test_data['사고이력'] = label_encoder.transform(test_data['사고이력'])"
   ]
  },
  {
   "cell_type": "code",
   "execution_count": null,
   "metadata": {},
   "outputs": [],
   "source": [
    "# 2-3. 모델별 사고 없는 차량 평균 가격 기반 가중치 생성\n",
    "avg_price_no_accidents = train_data[train_data['사고이력'] == 0].groupby('모델')['가격(백만원)'].mean()\n",
    "model_weights = avg_price_no_accidents / avg_price_no_accidents.mean()\n",
    "train_data['모델가중치'] = train_data['모델'].map(model_weights)\n",
    "test_data['모델가중치'] = test_data['모델'].map(model_weights).fillna(1)"
   ]
  },
  {
   "cell_type": "code",
   "execution_count": null,
   "metadata": {},
   "outputs": [],
   "source": [
    "# 2-4. 원핫 인코딩 (제조사, 차량상태, 구동방식, 모델)\n",
    "train_data = pd.get_dummies(train_data, columns=['제조사', '차량상태', '구동방식', '모델'])\n",
    "test_data = pd.get_dummies(test_data, columns=['제조사', '차량상태', '구동방식', '모델'])"
   ]
  },
  {
   "cell_type": "code",
   "execution_count": null,
   "metadata": {},
   "outputs": [],
   "source": [
    "# 2-5. 학습/테스트 데이터 간 컬럼 맞춤\n",
    "missing_cols = set(train_data.columns) - set(test_data.columns)\n",
    "for col in missing_cols:\n",
    "    test_data[col] = 0\n",
    "test_data = test_data[train_data.columns.drop('가격(백만원)')]\n",
    "test_data = test_data.drop(['ID'], axis=1)\n",
    "\n",
    "y = train_data['가격(백만원)']\n",
    "X = train_data.drop(['ID', '가격(백만원)'], axis=1)"
   ]
  },
  {
   "cell_type": "code",
   "execution_count": null,
   "metadata": {},
   "outputs": [],
   "source": [
    "# 2-6. 특징 엔지니어링 (새로운 변수 생성)\n",
    "X['주행거리_연식_비율'] = X['주행거리(km)'] / (X['연식(년)'] + 1e-5)\n",
    "test_data['주행거리_연식_비율'] = test_data['주행거리(km)'] / (test_data['연식(년)'] + 1e-5)"
   ]
  },
  {
   "cell_type": "markdown",
   "metadata": {},
   "source": [
    "## 3. 교차 검증 설정"
   ]
  },
  {
   "cell_type": "code",
   "execution_count": null,
   "metadata": {},
   "outputs": [],
   "source": [
    "kf = KFold(n_splits=5, shuffle=True, random_state=42)"
   ]
  },
  {
   "cell_type": "markdown",
   "metadata": {},
   "source": [
    "## 4. 모델 학습 및 앙상블"
   ]
  },
  {
   "cell_type": "code",
   "execution_count": null,
   "metadata": {},
   "outputs": [],
   "source": [
    "def train_model(X, y, test_data, model_name):\n",
    "    def objective(trial):\n",
    "        if model_name == 'xgb':\n",
    "            params = {\n",
    "                'device': 'gpu',\n",
    "                'max_depth': trial.suggest_int('max_depth', 3, 10),\n",
    "                'learning_rate': trial.suggest_float('learning_rate', 0.01, 0.1),\n",
    "                'n_estimators': trial.suggest_int('n_estimators', 100, 1000),\n",
    "                'subsample': trial.suggest_float('subsample', 0.5, 1.0),\n",
    "                'colsample_bytree': trial.suggest_float('colsample_bytree', 0.5, 1.0),\n",
    "                'reg_alpha': trial.suggest_float('reg_alpha', 0.0, 10.0),\n",
    "                'reg_lambda': trial.suggest_float('reg_lambda', 0.0, 10.0),\n",
    "            }\n",
    "            model = xgb.XGBRegressor(**params, random_state=42)\n",
    "        else:\n",
    "            params = {\n",
    "                'task_type': 'GPU',\n",
    "                'depth': trial.suggest_int('depth', 3, 10),\n",
    "                'learning_rate': trial.suggest_float('learning_rate', 0.01, 0.1),\n",
    "                'iterations': trial.suggest_int('iterations', 100, 1000),\n",
    "                'l2_leaf_reg': trial.suggest_float('l2_leaf_reg', 0.0, 10.0),\n",
    "                'bagging_temperature': trial.suggest_float('bagging_temperature', 0.0, 1.0),\n",
    "            }\n",
    "            model = CatBoostRegressor(**params, random_state=42, verbose=0)\n",
    "        val_rmse = []\n",
    "        for train_idx, val_idx in kf.split(X):\n",
    "            X_train_fold, X_val_fold = X.iloc[train_idx], X.iloc[val_idx]\n",
    "            y_train_fold, y_val_fold = y.iloc[train_idx], y.iloc[val_idx]\n",
    "\n",
    "            model.fit(X_train_fold, y_train_fold)\n",
    "            preds = model.predict(X_val_fold)\n",
    "            rmse = np.sqrt(mean_squared_error(y_val_fold, preds))\n",
    "            val_rmse.append(rmse)\n",
    "        return np.mean(val_rmse)\n",
    "\n",
    "    study = optuna.create_study(direction='minimize')\n",
    "    study.optimize(objective, n_trials=50)\n",
    "    best_params = study.best_trial.params\n",
    "\n",
    "    # 최적 파라미터로 학습\n",
    "    if model_name == 'xgb':\n",
    "        final_model = xgb.XGBRegressor(**best_params, random_state=42)\n",
    "    else:\n",
    "        final_model = CatBoostRegressor(**best_params, random_state=42, verbose=0)\n",
    "\n",
    "    final_model.fit(X, y)\n",
    "    test_preds = final_model.predict(test_data)\n",
    "    return test_preds\n",
    "\n",
    "xgb_preds = train_model(X, y, test_data, 'xgb')\n",
    "catboost_preds = train_model(X, y, test_data, 'catboost')\n",
    "\n",
    "# 예측값 앙상블 (평균)\n",
    "final_preds = (xgb_preds + catboost_preds) / 2"
   ]
  },
  {
   "cell_type": "code",
   "execution_count": null,
   "metadata": {},
   "outputs": [],
   "source": [
    "# 제출 파일 생성\n",
    "submission = pd.read_csv('data/sample_submission.csv')\n",
    "submission['가격(백만원)'] = final_preds\n",
    "submission.to_csv('data/submission.csv', index=False)"
   ]
  }
 ],
 "metadata": {
  "kernelspec": {
   "display_name": "base",
   "language": "python",
   "name": "python3"
  },
  "language_info": {
   "name": "python",
   "version": "3.12.7"
  }
 },
 "nbformat": 4,
 "nbformat_minor": 2
}
