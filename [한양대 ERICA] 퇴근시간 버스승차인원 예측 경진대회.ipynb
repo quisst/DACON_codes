{
 "cells": [
  {
   "cell_type": "markdown",
   "id": "4f1fc789-9d0e-4102-ac65-fc78d5bdb069",
   "metadata": {},
   "source": [
    "# [한양대 ERICA] 퇴근시간 버스승차인원 예측 경진대회\n",
    "## Quisst"
   ]
  },
  {
   "cell_type": "markdown",
   "id": "84056cf7-bfc0-4e66-8b5b-b6a745513cd2",
   "metadata": {},
   "source": [
    "### 전처리"
   ]
  },
  {
   "cell_type": "code",
   "execution_count": 1,
   "id": "2786deb1-b9b2-494e-9a9f-0ed73cb98dd6",
   "metadata": {
    "executionInfo": {
     "elapsed": 267,
     "status": "ok",
     "timestamp": 1637251228540,
     "user": {
      "displayName": "최민서",
      "photoUrl": "https://lh3.googleusercontent.com/a/default-user=s64",
      "userId": "18372631967251291047"
     },
     "user_tz": -540
    },
    "id": "2786deb1-b9b2-494e-9a9f-0ed73cb98dd6"
   },
   "outputs": [],
   "source": [
    "import numpy as np\n",
    "import pandas as pd\n",
    "from tqdm import tqdm\n",
    "tqdm.pandas()"
   ]
  },
  {
   "cell_type": "code",
   "execution_count": 2,
   "id": "967e15ad-88a9-4033-ba6e-c1bc394500c5",
   "metadata": {
    "colab": {
     "base_uri": "https://localhost:8080/",
     "height": 313
    },
    "executionInfo": {
     "elapsed": 3619,
     "status": "ok",
     "timestamp": 1637251232982,
     "user": {
      "displayName": "최민서",
      "photoUrl": "https://lh3.googleusercontent.com/a/default-user=s64",
      "userId": "18372631967251291047"
     },
     "user_tz": -540
    },
    "id": "967e15ad-88a9-4033-ba6e-c1bc394500c5",
    "outputId": "dbeff562-fed2-4b9c-eca5-0963a95753b8"
   },
   "outputs": [
    {
     "data": {
      "text/html": [
       "<div>\n",
       "<style scoped>\n",
       "    .dataframe tbody tr th:only-of-type {\n",
       "        vertical-align: middle;\n",
       "    }\n",
       "\n",
       "    .dataframe tbody tr th {\n",
       "        vertical-align: top;\n",
       "    }\n",
       "\n",
       "    .dataframe thead th {\n",
       "        text-align: right;\n",
       "    }\n",
       "</style>\n",
       "<table border=\"1\" class=\"dataframe\">\n",
       "  <thead>\n",
       "    <tr style=\"text-align: right;\">\n",
       "      <th></th>\n",
       "      <th>id</th>\n",
       "      <th>date</th>\n",
       "      <th>bus_route_id</th>\n",
       "      <th>in_out</th>\n",
       "      <th>station_code</th>\n",
       "      <th>station_name</th>\n",
       "      <th>6~7_ride</th>\n",
       "      <th>7~8_ride</th>\n",
       "      <th>8~9_ride</th>\n",
       "      <th>9~10_ride</th>\n",
       "      <th>10~11_ride</th>\n",
       "      <th>11~12_ride</th>\n",
       "      <th>6~7_takeoff</th>\n",
       "      <th>7~8_takeoff</th>\n",
       "      <th>8~9_takeoff</th>\n",
       "      <th>9~10_takeoff</th>\n",
       "      <th>10~11_takeoff</th>\n",
       "      <th>11~12_takeoff</th>\n",
       "      <th>18~20_ride</th>\n",
       "    </tr>\n",
       "  </thead>\n",
       "  <tbody>\n",
       "    <tr>\n",
       "      <th>0</th>\n",
       "      <td>0</td>\n",
       "      <td>2019-09-01</td>\n",
       "      <td>4270000</td>\n",
       "      <td>시외</td>\n",
       "      <td>344</td>\n",
       "      <td>제주썬호텔</td>\n",
       "      <td>0.0</td>\n",
       "      <td>1.0</td>\n",
       "      <td>2.0</td>\n",
       "      <td>5.0</td>\n",
       "      <td>2.0</td>\n",
       "      <td>6.0</td>\n",
       "      <td>0.0</td>\n",
       "      <td>0.0</td>\n",
       "      <td>0.0</td>\n",
       "      <td>0.0</td>\n",
       "      <td>0.0</td>\n",
       "      <td>0.0</td>\n",
       "      <td>0.0</td>\n",
       "    </tr>\n",
       "    <tr>\n",
       "      <th>1</th>\n",
       "      <td>1</td>\n",
       "      <td>2019-09-01</td>\n",
       "      <td>4270000</td>\n",
       "      <td>시외</td>\n",
       "      <td>357</td>\n",
       "      <td>한라병원</td>\n",
       "      <td>1.0</td>\n",
       "      <td>4.0</td>\n",
       "      <td>4.0</td>\n",
       "      <td>2.0</td>\n",
       "      <td>5.0</td>\n",
       "      <td>6.0</td>\n",
       "      <td>0.0</td>\n",
       "      <td>0.0</td>\n",
       "      <td>0.0</td>\n",
       "      <td>0.0</td>\n",
       "      <td>0.0</td>\n",
       "      <td>0.0</td>\n",
       "      <td>5.0</td>\n",
       "    </tr>\n",
       "    <tr>\n",
       "      <th>2</th>\n",
       "      <td>2</td>\n",
       "      <td>2019-09-01</td>\n",
       "      <td>4270000</td>\n",
       "      <td>시외</td>\n",
       "      <td>432</td>\n",
       "      <td>정존마을</td>\n",
       "      <td>1.0</td>\n",
       "      <td>1.0</td>\n",
       "      <td>0.0</td>\n",
       "      <td>2.0</td>\n",
       "      <td>0.0</td>\n",
       "      <td>0.0</td>\n",
       "      <td>0.0</td>\n",
       "      <td>0.0</td>\n",
       "      <td>0.0</td>\n",
       "      <td>0.0</td>\n",
       "      <td>0.0</td>\n",
       "      <td>0.0</td>\n",
       "      <td>2.0</td>\n",
       "    </tr>\n",
       "    <tr>\n",
       "      <th>3</th>\n",
       "      <td>3</td>\n",
       "      <td>2019-09-01</td>\n",
       "      <td>4270000</td>\n",
       "      <td>시내</td>\n",
       "      <td>1579</td>\n",
       "      <td>제주국제공항(600번)</td>\n",
       "      <td>0.0</td>\n",
       "      <td>17.0</td>\n",
       "      <td>6.0</td>\n",
       "      <td>26.0</td>\n",
       "      <td>14.0</td>\n",
       "      <td>16.0</td>\n",
       "      <td>0.0</td>\n",
       "      <td>0.0</td>\n",
       "      <td>0.0</td>\n",
       "      <td>0.0</td>\n",
       "      <td>0.0</td>\n",
       "      <td>0.0</td>\n",
       "      <td>53.0</td>\n",
       "    </tr>\n",
       "    <tr>\n",
       "      <th>4</th>\n",
       "      <td>4</td>\n",
       "      <td>2019-09-01</td>\n",
       "      <td>4270000</td>\n",
       "      <td>시내</td>\n",
       "      <td>1646</td>\n",
       "      <td>중문관광단지입구</td>\n",
       "      <td>0.0</td>\n",
       "      <td>0.0</td>\n",
       "      <td>0.0</td>\n",
       "      <td>0.0</td>\n",
       "      <td>0.0</td>\n",
       "      <td>0.0</td>\n",
       "      <td>0.0</td>\n",
       "      <td>0.0</td>\n",
       "      <td>0.0</td>\n",
       "      <td>1.0</td>\n",
       "      <td>0.0</td>\n",
       "      <td>0.0</td>\n",
       "      <td>0.0</td>\n",
       "    </tr>\n",
       "  </tbody>\n",
       "</table>\n",
       "</div>"
      ],
      "text/plain": [
       "   id        date  bus_route_id in_out  station_code  station_name  6~7_ride  \\\n",
       "0   0  2019-09-01       4270000     시외           344         제주썬호텔       0.0   \n",
       "1   1  2019-09-01       4270000     시외           357          한라병원       1.0   \n",
       "2   2  2019-09-01       4270000     시외           432          정존마을       1.0   \n",
       "3   3  2019-09-01       4270000     시내          1579  제주국제공항(600번)       0.0   \n",
       "4   4  2019-09-01       4270000     시내          1646      중문관광단지입구       0.0   \n",
       "\n",
       "   7~8_ride  8~9_ride  9~10_ride  10~11_ride  11~12_ride  6~7_takeoff  \\\n",
       "0       1.0       2.0        5.0         2.0         6.0          0.0   \n",
       "1       4.0       4.0        2.0         5.0         6.0          0.0   \n",
       "2       1.0       0.0        2.0         0.0         0.0          0.0   \n",
       "3      17.0       6.0       26.0        14.0        16.0          0.0   \n",
       "4       0.0       0.0        0.0         0.0         0.0          0.0   \n",
       "\n",
       "   7~8_takeoff  8~9_takeoff  9~10_takeoff  10~11_takeoff  11~12_takeoff  \\\n",
       "0          0.0          0.0           0.0            0.0            0.0   \n",
       "1          0.0          0.0           0.0            0.0            0.0   \n",
       "2          0.0          0.0           0.0            0.0            0.0   \n",
       "3          0.0          0.0           0.0            0.0            0.0   \n",
       "4          0.0          0.0           1.0            0.0            0.0   \n",
       "\n",
       "   18~20_ride  \n",
       "0         0.0  \n",
       "1         5.0  \n",
       "2         2.0  \n",
       "3        53.0  \n",
       "4         0.0  "
      ]
     },
     "execution_count": 2,
     "metadata": {},
     "output_type": "execute_result"
    }
   ],
   "source": [
    "train = pd.read_csv(\"data/train.csv\")\n",
    "test = pd.read_csv(\"data/test.csv\")\n",
    "train.head()"
   ]
  },
  {
   "cell_type": "code",
   "execution_count": 3,
   "id": "f8439279-4ec3-44eb-8dfe-b80cb8c4371a",
   "metadata": {
    "executionInfo": {
     "elapsed": 364,
     "status": "ok",
     "timestamp": 1637251234266,
     "user": {
      "displayName": "최민서",
      "photoUrl": "https://lh3.googleusercontent.com/a/default-user=s64",
      "userId": "18372631967251291047"
     },
     "user_tz": -540
    },
    "id": "f8439279-4ec3-44eb-8dfe-b80cb8c4371a"
   },
   "outputs": [],
   "source": [
    "# 세부적인 탑승/하차 column 생성\n",
    "\n",
    "train['6~8_ride'] = train['6~7_ride'] + train['7~8_ride']\n",
    "train['8~10_ride'] = train['8~9_ride'] + train['9~10_ride']\n",
    "train['10~12_ride'] = train['10~11_ride'] + train['11~12_ride']\n",
    "train['6~12_ride'] = train['6~8_ride'] + train['8~10_ride'] + train['10~12_ride']\n",
    "\n",
    "train['6~8_takeoff'] = train['6~7_takeoff'] + train['7~8_takeoff']\n",
    "train['8~10_takeoff'] = train['8~9_takeoff'] + train['9~10_takeoff']\n",
    "train['10~12_takeoff'] = train['10~11_takeoff'] + train['11~12_takeoff']\n",
    "train['6~12_takeoff'] = train['6~8_takeoff'] + train['8~10_takeoff'] + train['10~12_takeoff']"
   ]
  },
  {
   "cell_type": "code",
   "execution_count": 4,
   "id": "af02e9a2-bc95-4fbe-a02c-e0c077e4f626",
   "metadata": {
    "executionInfo": {
     "elapsed": 410,
     "status": "ok",
     "timestamp": 1637251234675,
     "user": {
      "displayName": "최민서",
      "photoUrl": "https://lh3.googleusercontent.com/a/default-user=s64",
      "userId": "18372631967251291047"
     },
     "user_tz": -540
    },
    "id": "af02e9a2-bc95-4fbe-a02c-e0c077e4f626"
   },
   "outputs": [],
   "source": [
    "# 요일 뽑아내고 원핫 인코딩\n",
    "\n",
    "train['date'] = pd.to_datetime(train['date'])\n",
    "train['weekday'] = train['date'].dt.weekday\n",
    "train = pd.get_dummies(train,columns=['weekday'])\n",
    "train['weekday'] = train['date'].dt.weekday\n",
    "\n",
    "test['date'] = pd.to_datetime(test['date'])\n",
    "test['weekday'] = test['date'].dt.weekday\n",
    "test = pd.get_dummies(test,columns=['weekday'])\n",
    "test['weekday'] = test['date'].dt.weekday"
   ]
  },
  {
   "cell_type": "code",
   "execution_count": 5,
   "id": "2907e0f9-a8e6-4e74-ac71-f770b6c10aba",
   "metadata": {
    "executionInfo": {
     "elapsed": 993,
     "status": "ok",
     "timestamp": 1637251235666,
     "user": {
      "displayName": "최민서",
      "photoUrl": "https://lh3.googleusercontent.com/a/default-user=s64",
      "userId": "18372631967251291047"
     },
     "user_tz": -540
    },
    "id": "2907e0f9-a8e6-4e74-ac71-f770b6c10aba"
   },
   "outputs": [],
   "source": [
    "# 데이터 인코딩\n",
    "\n",
    "from sklearn.preprocessing import LabelEncoder\n",
    "\n",
    "bus_route_id_encoded = LabelEncoder().fit(pd.concat([train['bus_route_id'], test['bus_route_id']]))\n",
    "station_name_encoded = LabelEncoder().fit(pd.concat([train['station_name'], test['station_name']]))\n",
    "\n",
    "train['bus_route_id_encoded'] = bus_route_id_encoded.transform(train['bus_route_id'])\n",
    "train['station_name_encoded'] = station_name_encoded.transform(train['station_name'])\n",
    "\n",
    "test['bus_route_id_encoded'] = bus_route_id_encoded.transform(test['bus_route_id'])\n",
    "test['station_name_encoded'] = station_name_encoded.transform(test['station_name'])"
   ]
  },
  {
   "cell_type": "code",
   "execution_count": 6,
   "id": "2eddfd3f-8118-4d98-8ee1-cbf54fee945e",
   "metadata": {
    "executionInfo": {
     "elapsed": 480,
     "status": "ok",
     "timestamp": 1637251236144,
     "user": {
      "displayName": "최민서",
      "photoUrl": "https://lh3.googleusercontent.com/a/default-user=s64",
      "userId": "18372631967251291047"
     },
     "user_tz": -540
    },
    "id": "2eddfd3f-8118-4d98-8ee1-cbf54fee945e"
   },
   "outputs": [],
   "source": [
    "train['bus_route_id_station_name'] = train['bus_route_id'].astype(str) + train['station_name']\n",
    "test['bus_route_id_station_name'] = test['bus_route_id'].astype(str) + test['station_name']"
   ]
  },
  {
   "cell_type": "code",
   "execution_count": 7,
   "id": "b300b576-4219-457b-80b6-85b5fcd18066",
   "metadata": {
    "executionInfo": {
     "elapsed": 277,
     "status": "ok",
     "timestamp": 1637251236420,
     "user": {
      "displayName": "최민서",
      "photoUrl": "https://lh3.googleusercontent.com/a/default-user=s64",
      "userId": "18372631967251291047"
     },
     "user_tz": -540
    },
    "id": "b300b576-4219-457b-80b6-85b5fcd18066"
   },
   "outputs": [],
   "source": [
    "bus_route_id_station_name_encoded = LabelEncoder().fit(pd.concat([train['bus_route_id_station_name'], test['bus_route_id_station_name']]))\n",
    "\n",
    "train['bus_route_id_station_name_encoded'] = bus_route_id_station_name_encoded.transform(train['bus_route_id_station_name'])\n",
    "test['bus_route_id_station_name_encoded'] = bus_route_id_station_name_encoded.transform(test['bus_route_id_station_name'])"
   ]
  },
  {
   "cell_type": "code",
   "execution_count": 8,
   "id": "1aaba972-744f-40a5-a109-63ef7f42b2ed",
   "metadata": {
    "executionInfo": {
     "elapsed": 3,
     "status": "ok",
     "timestamp": 1637251236673,
     "user": {
      "displayName": "최민서",
      "photoUrl": "https://lh3.googleusercontent.com/a/default-user=s64",
      "userId": "18372631967251291047"
     },
     "user_tz": -540
    },
    "id": "1aaba972-744f-40a5-a109-63ef7f42b2ed"
   },
   "outputs": [],
   "source": [
    "# 시내/시외 구분\n",
    "\n",
    "train['in_out'] = train['in_out'].map({'시내':0,'시외':1})\n",
    "test['in_out'] = test['in_out'].map({'시내':0,'시외':1})"
   ]
  },
  {
   "cell_type": "code",
   "execution_count": 9,
   "id": "4f132bd6-2454-4baf-9c39-e2043e4e7569",
   "metadata": {
    "executionInfo": {
     "elapsed": 580,
     "status": "ok",
     "timestamp": 1637251237251,
     "user": {
      "displayName": "최민서",
      "photoUrl": "https://lh3.googleusercontent.com/a/default-user=s64",
      "userId": "18372631967251291047"
     },
     "user_tz": -540
    },
    "id": "4f132bd6-2454-4baf-9c39-e2043e4e7569"
   },
   "outputs": [],
   "source": [
    "# 시내/시외의 18~20시 탑승자 수의 평균 구하기\n",
    "\n",
    "train['in_out_mean'], test['in_out_mean'] = 0, 0\n",
    "\n",
    "in_out_0s_train = train[train['in_out'] == 0].index\n",
    "in_out_1s_train = train[train['in_out'] == 1].index\n",
    "in_out_0s_test = test[test['in_out'] == 0].index\n",
    "in_out_1s_test = test[test['in_out'] == 1].index\n",
    "\n",
    "train.loc[in_out_0s_train, 'in_out_mean'] = train[train['in_out'] == 0]['18~20_ride'].mean()\n",
    "train.loc[in_out_1s_train, 'in_out_mean'] = train[train['in_out'] == 1]['18~20_ride'].mean()\n",
    "test.loc[in_out_0s_test, 'in_out_mean'] = train[train['in_out'] == 0]['18~20_ride'].mean()\n",
    "test.loc[in_out_1s_test, 'in_out_mean'] = train[train['in_out'] == 1]['18~20_ride'].mean()"
   ]
  },
  {
   "cell_type": "code",
   "execution_count": 10,
   "id": "58bad54d-1f1a-4941-a6e8-eb427b7c51bd",
   "metadata": {
    "colab": {
     "base_uri": "https://localhost:8080/"
    },
    "executionInfo": {
     "elapsed": 283,
     "status": "ok",
     "timestamp": 1637251237531,
     "user": {
      "displayName": "최민서",
      "photoUrl": "https://lh3.googleusercontent.com/a/default-user=s64",
      "userId": "18372631967251291047"
     },
     "user_tz": -540
    },
    "id": "58bad54d-1f1a-4941-a6e8-eb427b7c51bd",
    "outputId": "344ddf7e-ec83-49a7-f70c-1f674a6882fc"
   },
   "outputs": [
    {
     "data": {
      "text/plain": [
       "3         53.0\n",
       "55        10.0\n",
       "65        73.0\n",
       "74         0.0\n",
       "110       42.0\n",
       "          ... \n",
       "414535     5.0\n",
       "415091     4.0\n",
       "415115     1.0\n",
       "415116     5.0\n",
       "415361     0.0\n",
       "Name: 18~20_ride, Length: 2831, dtype: float64"
      ]
     },
     "execution_count": 10,
     "metadata": {},
     "output_type": "execute_result"
    }
   ],
   "source": [
    "# 정류장 이름에 '공항'을 포함하는 정류장 분류\n",
    "\n",
    "a = train[train['station_name'].str.contains('공항')]['18~20_ride']\n",
    "a"
   ]
  },
  {
   "cell_type": "code",
   "execution_count": 11,
   "id": "05baee91-ab3d-49cc-87fb-5d6fd39758b2",
   "metadata": {
    "executionInfo": {
     "elapsed": 1,
     "status": "ok",
     "timestamp": 1637251239306,
     "user": {
      "displayName": "최민서",
      "photoUrl": "https://lh3.googleusercontent.com/a/default-user=s64",
      "userId": "18372631967251291047"
     },
     "user_tz": -540
    },
    "id": "05baee91-ab3d-49cc-87fb-5d6fd39758b2"
   },
   "outputs": [],
   "source": [
    "def is_airport(x):\n",
    "    if str(x).find(\"공항\") != -1 :\n",
    "        return 1\n",
    "    return 0"
   ]
  },
  {
   "cell_type": "code",
   "execution_count": 12,
   "id": "9c3d619d-b888-4b5e-90e4-08cdb9721096",
   "metadata": {
    "colab": {
     "base_uri": "https://localhost:8080/"
    },
    "executionInfo": {
     "elapsed": 288,
     "status": "ok",
     "timestamp": 1637251239844,
     "user": {
      "displayName": "최민서",
      "photoUrl": "https://lh3.googleusercontent.com/a/default-user=s64",
      "userId": "18372631967251291047"
     },
     "user_tz": -540
    },
    "id": "9c3d619d-b888-4b5e-90e4-08cdb9721096",
    "outputId": "3897c5ec-60f9-4ac1-e35a-650b6ca80d90"
   },
   "outputs": [
    {
     "data": {
      "text/plain": [
       "0         0\n",
       "1         0\n",
       "2         0\n",
       "3         1\n",
       "4         0\n",
       "         ..\n",
       "228165    0\n",
       "228166    0\n",
       "228167    0\n",
       "228168    0\n",
       "228169    0\n",
       "Name: is_airport, Length: 228170, dtype: int64"
      ]
     },
     "execution_count": 12,
     "metadata": {},
     "output_type": "execute_result"
    }
   ],
   "source": [
    "train['is_airport'] = train['station_name'].apply(is_airport)\n",
    "train['is_airport']\n",
    "test['is_airport'] = test['station_name'].apply(is_airport)\n",
    "test['is_airport']"
   ]
  },
  {
   "cell_type": "code",
   "execution_count": 13,
   "id": "5e143481-071c-418d-9848-009c8315a0f7",
   "metadata": {
    "executionInfo": {
     "elapsed": 2,
     "status": "ok",
     "timestamp": 1637251239844,
     "user": {
      "displayName": "최민서",
      "photoUrl": "https://lh3.googleusercontent.com/a/default-user=s64",
      "userId": "18372631967251291047"
     },
     "user_tz": -540
    },
    "id": "5e143481-071c-418d-9848-009c8315a0f7"
   },
   "outputs": [],
   "source": [
    "# 주말 분류하기\n",
    "\n",
    "def is_weekend(x):\n",
    "    if x == 1:\n",
    "        return x\n",
    "    else:\n",
    "        return 0"
   ]
  },
  {
   "cell_type": "code",
   "execution_count": 14,
   "id": "3623e0ad-91ac-49cb-9b51-06f953e2d124",
   "metadata": {
    "executionInfo": {
     "elapsed": 643,
     "status": "ok",
     "timestamp": 1637251240764,
     "user": {
      "displayName": "최민서",
      "photoUrl": "https://lh3.googleusercontent.com/a/default-user=s64",
      "userId": "18372631967251291047"
     },
     "user_tz": -540
    },
    "id": "3623e0ad-91ac-49cb-9b51-06f953e2d124"
   },
   "outputs": [],
   "source": [
    "train['is_weekend'] = train['weekday_5'].apply(is_weekend)\n",
    "train['is_weekend'] += train['weekday_6'].apply(is_weekend)\n",
    "\n",
    "test['is_weekend'] = test['weekday_5'].apply(is_weekend)\n",
    "test['is_weekend'] += test['weekday_6'].apply(is_weekend)"
   ]
  },
  {
   "cell_type": "code",
   "execution_count": 15,
   "id": "15629482-8c4c-4344-8228-33da02cdcbad",
   "metadata": {
    "executionInfo": {
     "elapsed": 2,
     "status": "ok",
     "timestamp": 1637251240765,
     "user": {
      "displayName": "최민서",
      "photoUrl": "https://lh3.googleusercontent.com/a/default-user=s64",
      "userId": "18372631967251291047"
     },
     "user_tz": -540
    },
    "id": "15629482-8c4c-4344-8228-33da02cdcbad"
   },
   "outputs": [],
   "source": [
    "# 주중 분류하기\n",
    "\n",
    "def is_weekday(x):\n",
    "    if x == 1:\n",
    "        return 0\n",
    "    else:\n",
    "        return 1"
   ]
  },
  {
   "cell_type": "code",
   "execution_count": 16,
   "id": "615fdc99-b5a6-4fde-8025-d61aef3f814f",
   "metadata": {
    "executionInfo": {
     "elapsed": 313,
     "status": "ok",
     "timestamp": 1637251242770,
     "user": {
      "displayName": "최민서",
      "photoUrl": "https://lh3.googleusercontent.com/a/default-user=s64",
      "userId": "18372631967251291047"
     },
     "user_tz": -540
    },
    "id": "615fdc99-b5a6-4fde-8025-d61aef3f814f"
   },
   "outputs": [],
   "source": [
    "train['is_weekday'] = train['is_weekend'].apply(is_weekday)\n",
    "test['is_weekday'] = test['is_weekend'].apply(is_weekday)"
   ]
  },
  {
   "cell_type": "code",
   "execution_count": 17,
   "id": "c0b08aeb-b7c7-4103-a97e-93e3e64e16f9",
   "metadata": {
    "executionInfo": {
     "elapsed": 578,
     "status": "ok",
     "timestamp": 1637251243574,
     "user": {
      "displayName": "최민서",
      "photoUrl": "https://lh3.googleusercontent.com/a/default-user=s64",
      "userId": "18372631967251291047"
     },
     "user_tz": -540
    },
    "id": "c0b08aeb-b7c7-4103-a97e-93e3e64e16f9"
   },
   "outputs": [],
   "source": [
    "# 각 요일의 18~20시 탑승자 수의 평균 구하기\n",
    "\n",
    "train['day_mean'], test['day_mean'] = 0, 0\n",
    "\n",
    "mon_train = train[train['weekday_0'] == 1].index\n",
    "tues_train = train[train['weekday_1'] == 1].index\n",
    "wednes_train = train[train['weekday_2'] == 1].index\n",
    "thurs_train = train[train['weekday_3'] == 1].index\n",
    "fri_train = train[train['weekday_4'] == 1].index\n",
    "satur_train = train[train['weekday_5'] == 1].index\n",
    "sun_train = train[train['weekday_6'] == 1].index\n",
    "\n",
    "mon_test = test[test['weekday_0'] == 1].index\n",
    "tues_test = test[test['weekday_1'] == 1].index\n",
    "wednes_test = test[test['weekday_2'] == 1].index\n",
    "thurs_test = test[test['weekday_3'] == 1].index\n",
    "fri_test = test[test['weekday_4'] == 1].index\n",
    "satur_test = test[test['weekday_5'] == 1].index\n",
    "sun_test = test[test['weekday_6'] == 1].index\n",
    "\n",
    "train.loc[mon_train, 'day_mean'] = train[train['weekday_0'] == 1]['18~20_ride'].mean()\n",
    "train.loc[tues_train, 'day_mean'] = train[train['weekday_1'] == 1]['18~20_ride'].mean()\n",
    "train.loc[wednes_train, 'day_mean'] = train[train['weekday_2'] == 1]['18~20_ride'].mean()\n",
    "train.loc[thurs_train, 'day_mean'] = train[train['weekday_3'] == 1]['18~20_ride'].mean()\n",
    "train.loc[fri_train, 'day_mean'] = train[train['weekday_4'] == 1]['18~20_ride'].mean()\n",
    "train.loc[satur_train, 'day_mean'] = train[train['weekday_5'] == 1]['18~20_ride'].mean()\n",
    "train.loc[sun_train, 'day_mean'] = train[train['weekday_6'] == 1]['18~20_ride'].mean()\n",
    "\n",
    "test.loc[mon_test, 'day_mean'] = train[train['weekday_0'] == 1]['18~20_ride'].mean()\n",
    "test.loc[tues_test, 'day_mean'] = train[train['weekday_1'] == 1]['18~20_ride'].mean()\n",
    "test.loc[wednes_test, 'day_mean'] = train[train['weekday_2'] == 1]['18~20_ride'].mean()\n",
    "test.loc[thurs_test, 'day_mean'] = train[train['weekday_3'] == 1]['18~20_ride'].mean()\n",
    "test.loc[fri_test, 'day_mean'] = train[train['weekday_4'] == 1]['18~20_ride'].mean()\n",
    "test.loc[satur_test, 'day_mean'] = train[train['weekday_5'] == 1]['18~20_ride'].mean()\n",
    "test.loc[sun_test, 'day_mean'] = train[train['weekday_6'] == 1]['18~20_ride'].mean()"
   ]
  },
  {
   "cell_type": "code",
   "execution_count": 49,
   "id": "39101931-6546-46e1-a51a-5ca50fd4987d",
   "metadata": {
    "colab": {
     "base_uri": "https://localhost:8080/"
    },
    "id": "39101931-6546-46e1-a51a-5ca50fd4987d",
    "outputId": "a37646de-965e-432f-8777-8673b8d049a4"
   },
   "outputs": [
    {
     "name": "stderr",
     "output_type": "stream",
     "text": [
      "100%|█████████████████████████████████████████████████████████████████████████| 415423/415423 [07:35<00:00, 911.48it/s]\n",
      "100%|█████████████████████████████████████████████████████████████████████████| 228170/228170 [04:09<00:00, 914.87it/s]\n"
     ]
    }
   ],
   "source": [
    "# 각 버스 노선의 18~20시 탑승자 수의 평균 구하기\n",
    "\n",
    "def bus_route_id_ride_mean(x):\n",
    "    x = train[train['bus_route_id'] == x]['18~20_ride'].mean()\n",
    "    return x\n",
    "\n",
    "train['bus_route_id_ride_mean'] = train['bus_route_id'].progress_apply(bus_route_id_ride_mean)\n",
    "test['bus_route_id_ride_mean'] = test['bus_route_id'].progress_apply(bus_route_id_ride_mean)"
   ]
  },
  {
   "cell_type": "code",
   "execution_count": 50,
   "id": "7e7531f4-2fe1-4cca-81cd-e1d17ad5bbd4",
   "metadata": {
    "id": "7e7531f4-2fe1-4cca-81cd-e1d17ad5bbd4"
   },
   "outputs": [
    {
     "name": "stderr",
     "output_type": "stream",
     "text": [
      "100%|█████████████████████████████████████████████████████████████████████████| 415423/415423 [08:16<00:00, 836.29it/s]\n",
      "100%|█████████████████████████████████████████████████████████████████████████| 228170/228170 [04:31<00:00, 841.12it/s]\n"
     ]
    }
   ],
   "source": [
    "# 각 정류장의 18~20시 탑승자 수의 평균 구하기\n",
    "\n",
    "def station_name_ride_mean(x):\n",
    "    x = train[train['station_name_encoded'] == x]['18~20_ride'].mean()\n",
    "    return x\n",
    "\n",
    "train['station_name_ride_mean'] = train['station_name_encoded'].progress_apply(station_name_ride_mean)\n",
    "test['station_name_ride_mean'] = test['station_name_encoded'].progress_apply(station_name_ride_mean)"
   ]
  },
  {
   "cell_type": "code",
   "execution_count": 51,
   "id": "0d67082c-fb36-4eac-b6ce-bd286474d689",
   "metadata": {
    "id": "0d67082c-fb36-4eac-b6ce-bd286474d689"
   },
   "outputs": [
    {
     "name": "stderr",
     "output_type": "stream",
     "text": [
      "100%|█████████████████████████████████████████████████████████████████████████| 415423/415423 [07:30<00:00, 922.14it/s]\n",
      "100%|█████████████████████████████████████████████████████████████████████████| 228170/228170 [04:09<00:00, 914.49it/s]\n"
     ]
    }
   ],
   "source": [
    "# 각 정류장 코드의 18~20시 탑승자 수의 평균 구하기\n",
    "\n",
    "def station_code_ride_mean(x):\n",
    "    x = train[train['station_code'] == x]['18~20_ride'].mean()\n",
    "    return x\n",
    "\n",
    "train['station_code_ride_mean'] = train['station_code'].progress_apply(station_code_ride_mean)\n",
    "test['station_code_ride_mean'] = test['station_code'].progress_apply(station_code_ride_mean)"
   ]
  },
  {
   "cell_type": "code",
   "execution_count": 52,
   "id": "1affcad7-819c-4290-991e-9d022e4e048e",
   "metadata": {
    "id": "1affcad7-819c-4290-991e-9d022e4e048e"
   },
   "outputs": [
    {
     "data": {
      "text/html": [
       "<div>\n",
       "<style scoped>\n",
       "    .dataframe tbody tr th:only-of-type {\n",
       "        vertical-align: middle;\n",
       "    }\n",
       "\n",
       "    .dataframe tbody tr th {\n",
       "        vertical-align: top;\n",
       "    }\n",
       "\n",
       "    .dataframe thead th {\n",
       "        text-align: right;\n",
       "    }\n",
       "</style>\n",
       "<table border=\"1\" class=\"dataframe\">\n",
       "  <thead>\n",
       "    <tr style=\"text-align: right;\">\n",
       "      <th></th>\n",
       "      <th>id</th>\n",
       "      <th>date</th>\n",
       "      <th>bus_route_id</th>\n",
       "      <th>in_out</th>\n",
       "      <th>station_code</th>\n",
       "      <th>station_name</th>\n",
       "      <th>6~7_ride</th>\n",
       "      <th>7~8_ride</th>\n",
       "      <th>8~9_ride</th>\n",
       "      <th>9~10_ride</th>\n",
       "      <th>...</th>\n",
       "      <th>bus_route_id_station_name</th>\n",
       "      <th>bus_route_id_station_name_encoded</th>\n",
       "      <th>in_out_mean</th>\n",
       "      <th>is_airport</th>\n",
       "      <th>is_weekend</th>\n",
       "      <th>is_weekday</th>\n",
       "      <th>day_mean</th>\n",
       "      <th>bus_route_id_ride_mean</th>\n",
       "      <th>station_name_ride_mean</th>\n",
       "      <th>station_code_ride_mean</th>\n",
       "    </tr>\n",
       "  </thead>\n",
       "  <tbody>\n",
       "    <tr>\n",
       "      <th>0</th>\n",
       "      <td>0</td>\n",
       "      <td>2019-09-01</td>\n",
       "      <td>4270000</td>\n",
       "      <td>1</td>\n",
       "      <td>344</td>\n",
       "      <td>제주썬호텔</td>\n",
       "      <td>0.0</td>\n",
       "      <td>1.0</td>\n",
       "      <td>2.0</td>\n",
       "      <td>5.0</td>\n",
       "      <td>...</td>\n",
       "      <td>4270000제주썬호텔</td>\n",
       "      <td>28464</td>\n",
       "      <td>2.044345</td>\n",
       "      <td>0</td>\n",
       "      <td>1</td>\n",
       "      <td>0</td>\n",
       "      <td>1.034282</td>\n",
       "      <td>3.104381</td>\n",
       "      <td>0.964286</td>\n",
       "      <td>1.466667</td>\n",
       "    </tr>\n",
       "    <tr>\n",
       "      <th>1</th>\n",
       "      <td>1</td>\n",
       "      <td>2019-09-01</td>\n",
       "      <td>4270000</td>\n",
       "      <td>1</td>\n",
       "      <td>357</td>\n",
       "      <td>한라병원</td>\n",
       "      <td>1.0</td>\n",
       "      <td>4.0</td>\n",
       "      <td>4.0</td>\n",
       "      <td>2.0</td>\n",
       "      <td>...</td>\n",
       "      <td>4270000한라병원</td>\n",
       "      <td>28476</td>\n",
       "      <td>2.044345</td>\n",
       "      <td>0</td>\n",
       "      <td>1</td>\n",
       "      <td>0</td>\n",
       "      <td>1.034282</td>\n",
       "      <td>3.104381</td>\n",
       "      <td>4.462080</td>\n",
       "      <td>4.178218</td>\n",
       "    </tr>\n",
       "    <tr>\n",
       "      <th>2</th>\n",
       "      <td>2</td>\n",
       "      <td>2019-09-01</td>\n",
       "      <td>4270000</td>\n",
       "      <td>1</td>\n",
       "      <td>432</td>\n",
       "      <td>정존마을</td>\n",
       "      <td>1.0</td>\n",
       "      <td>1.0</td>\n",
       "      <td>0.0</td>\n",
       "      <td>2.0</td>\n",
       "      <td>...</td>\n",
       "      <td>4270000정존마을</td>\n",
       "      <td>28459</td>\n",
       "      <td>2.044345</td>\n",
       "      <td>0</td>\n",
       "      <td>1</td>\n",
       "      <td>0</td>\n",
       "      <td>1.034282</td>\n",
       "      <td>3.104381</td>\n",
       "      <td>1.843810</td>\n",
       "      <td>2.169559</td>\n",
       "    </tr>\n",
       "    <tr>\n",
       "      <th>3</th>\n",
       "      <td>3</td>\n",
       "      <td>2019-09-01</td>\n",
       "      <td>4270000</td>\n",
       "      <td>0</td>\n",
       "      <td>1579</td>\n",
       "      <td>제주국제공항(600번)</td>\n",
       "      <td>0.0</td>\n",
       "      <td>17.0</td>\n",
       "      <td>6.0</td>\n",
       "      <td>26.0</td>\n",
       "      <td>...</td>\n",
       "      <td>4270000제주국제공항(600번)</td>\n",
       "      <td>28460</td>\n",
       "      <td>1.228499</td>\n",
       "      <td>1</td>\n",
       "      <td>1</td>\n",
       "      <td>0</td>\n",
       "      <td>1.034282</td>\n",
       "      <td>3.104381</td>\n",
       "      <td>52.032258</td>\n",
       "      <td>52.032258</td>\n",
       "    </tr>\n",
       "    <tr>\n",
       "      <th>4</th>\n",
       "      <td>4</td>\n",
       "      <td>2019-09-01</td>\n",
       "      <td>4270000</td>\n",
       "      <td>0</td>\n",
       "      <td>1646</td>\n",
       "      <td>중문관광단지입구</td>\n",
       "      <td>0.0</td>\n",
       "      <td>0.0</td>\n",
       "      <td>0.0</td>\n",
       "      <td>0.0</td>\n",
       "      <td>...</td>\n",
       "      <td>4270000중문관광단지입구</td>\n",
       "      <td>28467</td>\n",
       "      <td>1.228499</td>\n",
       "      <td>0</td>\n",
       "      <td>1</td>\n",
       "      <td>0</td>\n",
       "      <td>1.034282</td>\n",
       "      <td>3.104381</td>\n",
       "      <td>1.509294</td>\n",
       "      <td>0.732794</td>\n",
       "    </tr>\n",
       "  </tbody>\n",
       "</table>\n",
       "<p>5 rows × 47 columns</p>\n",
       "</div>"
      ],
      "text/plain": [
       "   id       date  bus_route_id  in_out  station_code  station_name  6~7_ride  \\\n",
       "0   0 2019-09-01       4270000       1           344         제주썬호텔       0.0   \n",
       "1   1 2019-09-01       4270000       1           357          한라병원       1.0   \n",
       "2   2 2019-09-01       4270000       1           432          정존마을       1.0   \n",
       "3   3 2019-09-01       4270000       0          1579  제주국제공항(600번)       0.0   \n",
       "4   4 2019-09-01       4270000       0          1646      중문관광단지입구       0.0   \n",
       "\n",
       "   7~8_ride  8~9_ride  9~10_ride  ...  bus_route_id_station_name  \\\n",
       "0       1.0       2.0        5.0  ...               4270000제주썬호텔   \n",
       "1       4.0       4.0        2.0  ...                4270000한라병원   \n",
       "2       1.0       0.0        2.0  ...                4270000정존마을   \n",
       "3      17.0       6.0       26.0  ...        4270000제주국제공항(600번)   \n",
       "4       0.0       0.0        0.0  ...            4270000중문관광단지입구   \n",
       "\n",
       "   bus_route_id_station_name_encoded  in_out_mean  is_airport  is_weekend  \\\n",
       "0                              28464     2.044345           0           1   \n",
       "1                              28476     2.044345           0           1   \n",
       "2                              28459     2.044345           0           1   \n",
       "3                              28460     1.228499           1           1   \n",
       "4                              28467     1.228499           0           1   \n",
       "\n",
       "   is_weekday  day_mean  bus_route_id_ride_mean  station_name_ride_mean  \\\n",
       "0           0  1.034282                3.104381                0.964286   \n",
       "1           0  1.034282                3.104381                4.462080   \n",
       "2           0  1.034282                3.104381                1.843810   \n",
       "3           0  1.034282                3.104381               52.032258   \n",
       "4           0  1.034282                3.104381                1.509294   \n",
       "\n",
       "   station_code_ride_mean  \n",
       "0                1.466667  \n",
       "1                4.178218  \n",
       "2                2.169559  \n",
       "3               52.032258  \n",
       "4                0.732794  \n",
       "\n",
       "[5 rows x 47 columns]"
      ]
     },
     "execution_count": 52,
     "metadata": {},
     "output_type": "execute_result"
    }
   ],
   "source": [
    "train.head()"
   ]
  },
  {
   "cell_type": "code",
   "execution_count": 53,
   "id": "f6e0ef3e-4e11-45a5-8c6e-a19d93c9b06b",
   "metadata": {
    "colab": {
     "base_uri": "https://localhost:8080/"
    },
    "id": "f6e0ef3e-4e11-45a5-8c6e-a19d93c9b06b",
    "outputId": "a1316ff9-46a4-4a75-8225-8a8e5edba4e0"
   },
   "outputs": [
    {
     "data": {
      "text/plain": [
       "Index(['id', 'date', 'bus_route_id', 'in_out', 'station_code', 'station_name',\n",
       "       '6~7_ride', '7~8_ride', '8~9_ride', '9~10_ride', '10~11_ride',\n",
       "       '11~12_ride', '6~7_takeoff', '7~8_takeoff', '8~9_takeoff',\n",
       "       '9~10_takeoff', '10~11_takeoff', '11~12_takeoff', '18~20_ride',\n",
       "       '6~8_ride', '8~10_ride', '10~12_ride', '6~12_ride', '6~8_takeoff',\n",
       "       '8~10_takeoff', '10~12_takeoff', '6~12_takeoff', 'weekday_0',\n",
       "       'weekday_1', 'weekday_2', 'weekday_3', 'weekday_4', 'weekday_5',\n",
       "       'weekday_6', 'weekday', 'bus_route_id_encoded', 'station_name_encoded',\n",
       "       'bus_route_id_station_name', 'bus_route_id_station_name_encoded',\n",
       "       'in_out_mean', 'is_airport', 'is_weekend', 'is_weekday', 'day_mean',\n",
       "       'bus_route_id_ride_mean', 'station_name_ride_mean',\n",
       "       'station_code_ride_mean'],\n",
       "      dtype='object')"
      ]
     },
     "execution_count": 53,
     "metadata": {},
     "output_type": "execute_result"
    }
   ],
   "source": [
    "train.columns"
   ]
  },
  {
   "cell_type": "code",
   "execution_count": 54,
   "id": "b2a79ca5-87f2-4b01-a279-c0ca64bf7e5d",
   "metadata": {
    "id": "b2a79ca5-87f2-4b01-a279-c0ca64bf7e5d"
   },
   "outputs": [],
   "source": [
    "input_var=['in_out', 'station_code',\n",
    "       '6~7_ride', '7~8_ride', '8~9_ride', '9~10_ride', '10~11_ride',\n",
    "       '11~12_ride', '6~7_takeoff', '7~8_takeoff', '8~9_takeoff',\n",
    "       '9~10_takeoff', '10~11_takeoff', '11~12_takeoff',\n",
    "       '6~8_ride', '8~10_ride', '10~12_ride', '6~12_ride', '6~8_takeoff',\n",
    "       '8~10_takeoff', '10~12_takeoff', '6~12_takeoff', 'weekday_0',\n",
    "       'weekday_1', 'weekday_2', 'weekday_3', 'weekday_4', 'weekday_5',\n",
    "       'weekday_6', 'bus_route_id_encoded', 'station_name_encoded',\n",
    "       'bus_route_id_station_name_encoded',\n",
    "       'in_out_mean', 'is_airport', 'is_weekend', 'is_weekday', 'day_mean',\n",
    "       'bus_route_id_ride_mean', 'station_name_ride_mean',\n",
    "       'station_code_ride_mean']\n",
    "target=['18~20_ride']"
   ]
  },
  {
   "cell_type": "code",
   "execution_count": 55,
   "id": "49c4f766-dee1-471a-a25f-eb19b91a3cf2",
   "metadata": {
    "id": "49c4f766-dee1-471a-a25f-eb19b91a3cf2"
   },
   "outputs": [],
   "source": [
    "X_train=train[input_var]\n",
    "y_train=train[target]\n",
    "\n",
    "X_test_pred=test[input_var]"
   ]
  },
  {
   "cell_type": "markdown",
   "id": "8c9c6122-fac8-4606-a851-6f2d9cf0f622",
   "metadata": {},
   "source": [
    "### Hyper Parameter Tuning & Training"
   ]
  },
  {
   "cell_type": "code",
   "execution_count": 56,
   "id": "4d418043-064d-4bb3-a13e-bb6e6306d62c",
   "metadata": {
    "colab": {
     "base_uri": "https://localhost:8080/"
    },
    "id": "4d418043-064d-4bb3-a13e-bb6e6306d62c",
    "outputId": "1eda21d7-3afa-4525-c9f5-72eab3b51270"
   },
   "outputs": [
    {
     "name": "stdout",
     "output_type": "stream",
     "text": [
      "Requirement already satisfied: bayesian_optimization in c:\\users\\superman\\anaconda3\\lib\\site-packages (1.2.0)\n",
      "Requirement already satisfied: scipy>=0.14.0 in c:\\users\\superman\\anaconda3\\lib\\site-packages (from bayesian_optimization) (1.6.2)\n",
      "Requirement already satisfied: numpy>=1.9.0 in c:\\users\\superman\\anaconda3\\lib\\site-packages (from bayesian_optimization) (1.20.1)\n",
      "Requirement already satisfied: scikit-learn>=0.18.0 in c:\\users\\superman\\anaconda3\\lib\\site-packages (from bayesian_optimization) (0.24.1)\n",
      "Requirement already satisfied: joblib>=0.11 in c:\\users\\superman\\anaconda3\\lib\\site-packages (from scikit-learn>=0.18.0->bayesian_optimization) (1.0.1)\n",
      "Requirement already satisfied: threadpoolctl>=2.0.0 in c:\\users\\superman\\anaconda3\\lib\\site-packages (from scikit-learn>=0.18.0->bayesian_optimization) (2.1.0)\n"
     ]
    }
   ],
   "source": [
    "!pip install bayesian_optimization\n",
    "\n",
    "import lightgbm as lgb\n",
    "from sklearn.model_selection import train_test_split\n",
    "from bayes_opt import BayesianOptimization"
   ]
  },
  {
   "cell_type": "code",
   "execution_count": 57,
   "id": "05377599-1a99-4b31-877f-7d923f3512e4",
   "metadata": {
    "id": "05377599-1a99-4b31-877f-7d923f3512e4"
   },
   "outputs": [],
   "source": [
    "# hyper parameter tuning (Bayesian Optimization)\n",
    "\n",
    "train_dataset = lgb.Dataset(data=X_train, label=y_train)\n",
    "init_iter = 5\n",
    "n_iters = 10\n",
    "\n",
    "def hyp_lgbm(num_leaves, max_depth, feature_fraction, bagging_fraction, num_iterations):\n",
    "      \n",
    "    params = {\n",
    "        'application':'regression',\n",
    "        'early_stopping_round': 100,\n",
    "        'metric':'rmse',\n",
    "        'verbose': -1,\n",
    "        'n_jobs': -1,\n",
    "        'learning_rate': 0.003\n",
    "    }\n",
    "    params['num_iterations'] = int(round(num_iterations))\n",
    "    params['bagging_fraction'] = max(min(bagging_fraction, 1), 0)\n",
    "    params['feature_fraction'] = max(min(feature_fraction, 1), 0)\n",
    "    params['max_depth'] = int(round(max_depth))\n",
    "    params['num_leaves'] = int(round(num_leaves))\n",
    "    result = lgb.cv(params, train_dataset, nfold=5, stratified=False, verbose_eval=1000, metrics=['rmse'], seed=23)\n",
    "\n",
    "    return -np.min(result['rmse-mean'])"
   ]
  },
  {
   "cell_type": "code",
   "execution_count": 58,
   "id": "05e795bc-5b5b-4db5-b45b-3c221fd8175f",
   "metadata": {
    "colab": {
     "base_uri": "https://localhost:8080/"
    },
    "id": "05e795bc-5b5b-4db5-b45b-3c221fd8175f",
    "outputId": "7eb7cb71-1ecb-4ffd-bece-783e0474e370"
   },
   "outputs": [
    {
     "name": "stdout",
     "output_type": "stream",
     "text": [
      "|   iter    |  target   | baggin... | featur... | max_depth | num_it... | num_le... |\n",
      "-------------------------------------------------------------------------------------\n"
     ]
    },
    {
     "name": "stderr",
     "output_type": "stream",
     "text": [
      "C:\\Users\\superman\\anaconda3\\lib\\site-packages\\lightgbm\\engine.py:573: UserWarning: Found `num_iterations` in params. Will use it instead of argument\n",
      "  _log_warning(f\"Found `{alias}` in params. Will use it instead of argument\")\n",
      "C:\\Users\\superman\\anaconda3\\lib\\site-packages\\lightgbm\\engine.py:620: UserWarning: 'verbose_eval' argument is deprecated and will be removed in a future release of LightGBM. Pass 'log_evaluation()' callback via 'callbacks' argument instead.\n",
      "  _log_warning(\"'verbose_eval' argument is deprecated and will be removed in a future release of LightGBM. \"\n"
     ]
    },
    {
     "name": "stdout",
     "output_type": "stream",
     "text": [
      "[1000]\tcv_agg's rmse: 2.41655 + 0.0517794\n",
      "[2000]\tcv_agg's rmse: 2.3573 + 0.0461467\n",
      "| \u001b[0m 1       \u001b[0m | \u001b[0m-2.354   \u001b[0m | \u001b[0m 0.8035  \u001b[0m | \u001b[0m 0.8894  \u001b[0m | \u001b[0m 77.48   \u001b[0m | \u001b[0m 2.977e+0\u001b[0m | \u001b[0m 236.6   \u001b[0m |\n",
      "[1000]\tcv_agg's rmse: 2.40017 + 0.0458181\n",
      "[2000]\tcv_agg's rmse: 2.34938 + 0.043844\n",
      "| \u001b[95m 2       \u001b[0m | \u001b[95m-2.349   \u001b[0m | \u001b[95m 0.8372  \u001b[0m | \u001b[95m 0.7334  \u001b[0m | \u001b[95m 41.67   \u001b[0m | \u001b[95m 5.326e+0\u001b[0m | \u001b[95m 423.7   \u001b[0m |\n",
      "[1000]\tcv_agg's rmse: 2.39446 + 0.0495302\n",
      "| \u001b[0m 3       \u001b[0m | \u001b[0m-2.358   \u001b[0m | \u001b[0m 0.7005  \u001b[0m | \u001b[0m 0.8768  \u001b[0m | \u001b[0m 88.95   \u001b[0m | \u001b[0m 3.103e+0\u001b[0m | \u001b[0m 597.8   \u001b[0m |\n",
      "[1000]\tcv_agg's rmse: 2.42767 + 0.0490506\n",
      "| \u001b[0m 4       \u001b[0m | \u001b[0m-2.398   \u001b[0m | \u001b[0m 0.8957  \u001b[0m | \u001b[0m 0.869   \u001b[0m | \u001b[0m 10.25   \u001b[0m | \u001b[0m 3.063e+0\u001b[0m | \u001b[0m 302.2   \u001b[0m |\n",
      "[1000]\tcv_agg's rmse: 2.39295 + 0.0505962\n",
      "| \u001b[0m 5       \u001b[0m | \u001b[0m-2.392   \u001b[0m | \u001b[0m 0.8645  \u001b[0m | \u001b[0m 0.8252  \u001b[0m | \u001b[0m 14.61   \u001b[0m | \u001b[0m 1.004e+0\u001b[0m | \u001b[0m 943.3   \u001b[0m |\n"
     ]
    },
    {
     "name": "stderr",
     "output_type": "stream",
     "text": [
      "C:\\Users\\superman\\anaconda3\\lib\\site-packages\\lightgbm\\engine.py:573: UserWarning: Found `num_iterations` in params. Will use it instead of argument\n",
      "  _log_warning(f\"Found `{alias}` in params. Will use it instead of argument\")\n",
      "C:\\Users\\superman\\anaconda3\\lib\\site-packages\\lightgbm\\engine.py:620: UserWarning: 'verbose_eval' argument is deprecated and will be removed in a future release of LightGBM. Pass 'log_evaluation()' callback via 'callbacks' argument instead.\n",
      "  _log_warning(\"'verbose_eval' argument is deprecated and will be removed in a future release of LightGBM. \"\n"
     ]
    },
    {
     "name": "stdout",
     "output_type": "stream",
     "text": [
      "[1000]\tcv_agg's rmse: 2.39341 + 0.0455905\n",
      "| \u001b[0m 6       \u001b[0m | \u001b[0m-2.351   \u001b[0m | \u001b[0m 0.8856  \u001b[0m | \u001b[0m 0.7834  \u001b[0m | \u001b[0m 88.82   \u001b[0m | \u001b[0m 3.092e+0\u001b[0m | \u001b[0m 598.5   \u001b[0m |\n"
     ]
    },
    {
     "name": "stderr",
     "output_type": "stream",
     "text": [
      "C:\\Users\\superman\\anaconda3\\lib\\site-packages\\lightgbm\\engine.py:573: UserWarning: Found `num_iterations` in params. Will use it instead of argument\n",
      "  _log_warning(f\"Found `{alias}` in params. Will use it instead of argument\")\n",
      "C:\\Users\\superman\\anaconda3\\lib\\site-packages\\lightgbm\\engine.py:620: UserWarning: 'verbose_eval' argument is deprecated and will be removed in a future release of LightGBM. Pass 'log_evaluation()' callback via 'callbacks' argument instead.\n",
      "  _log_warning(\"'verbose_eval' argument is deprecated and will be removed in a future release of LightGBM. \"\n"
     ]
    },
    {
     "name": "stdout",
     "output_type": "stream",
     "text": [
      "[1000]\tcv_agg's rmse: 2.39263 + 0.0457792\n",
      "| \u001b[0m 7       \u001b[0m | \u001b[0m-2.351   \u001b[0m | \u001b[0m 0.7231  \u001b[0m | \u001b[0m 0.7744  \u001b[0m | \u001b[0m 84.38   \u001b[0m | \u001b[0m 3.121e+0\u001b[0m | \u001b[0m 608.1   \u001b[0m |\n"
     ]
    },
    {
     "name": "stderr",
     "output_type": "stream",
     "text": [
      "C:\\Users\\superman\\anaconda3\\lib\\site-packages\\lightgbm\\engine.py:573: UserWarning: Found `num_iterations` in params. Will use it instead of argument\n",
      "  _log_warning(f\"Found `{alias}` in params. Will use it instead of argument\")\n",
      "C:\\Users\\superman\\anaconda3\\lib\\site-packages\\lightgbm\\engine.py:620: UserWarning: 'verbose_eval' argument is deprecated and will be removed in a future release of LightGBM. Pass 'log_evaluation()' callback via 'callbacks' argument instead.\n",
      "  _log_warning(\"'verbose_eval' argument is deprecated and will be removed in a future release of LightGBM. \"\n"
     ]
    },
    {
     "name": "stdout",
     "output_type": "stream",
     "text": [
      "[1000]\tcv_agg's rmse: 2.39275 + 0.0482449\n",
      "| \u001b[0m 8       \u001b[0m | \u001b[0m-2.354   \u001b[0m | \u001b[0m 0.8188  \u001b[0m | \u001b[0m 0.8138  \u001b[0m | \u001b[0m 83.79   \u001b[0m | \u001b[0m 3.079e+0\u001b[0m | \u001b[0m 600.2   \u001b[0m |\n"
     ]
    },
    {
     "name": "stderr",
     "output_type": "stream",
     "text": [
      "C:\\Users\\superman\\anaconda3\\lib\\site-packages\\lightgbm\\engine.py:573: UserWarning: Found `num_iterations` in params. Will use it instead of argument\n",
      "  _log_warning(f\"Found `{alias}` in params. Will use it instead of argument\")\n",
      "C:\\Users\\superman\\anaconda3\\lib\\site-packages\\lightgbm\\engine.py:620: UserWarning: 'verbose_eval' argument is deprecated and will be removed in a future release of LightGBM. Pass 'log_evaluation()' callback via 'callbacks' argument instead.\n",
      "  _log_warning(\"'verbose_eval' argument is deprecated and will be removed in a future release of LightGBM. \"\n"
     ]
    },
    {
     "name": "stdout",
     "output_type": "stream",
     "text": [
      "[1000]\tcv_agg's rmse: 2.3946 + 0.0454544\n",
      "[2000]\tcv_agg's rmse: 2.34698 + 0.0450368\n",
      "| \u001b[95m 9       \u001b[0m | \u001b[95m-2.347   \u001b[0m | \u001b[95m 0.8893  \u001b[0m | \u001b[95m 0.7343  \u001b[0m | \u001b[95m 95.7    \u001b[0m | \u001b[95m 3.078e+0\u001b[0m | \u001b[95m 611.3   \u001b[0m |\n"
     ]
    },
    {
     "name": "stderr",
     "output_type": "stream",
     "text": [
      "C:\\Users\\superman\\anaconda3\\lib\\site-packages\\lightgbm\\engine.py:573: UserWarning: Found `num_iterations` in params. Will use it instead of argument\n",
      "  _log_warning(f\"Found `{alias}` in params. Will use it instead of argument\")\n",
      "C:\\Users\\superman\\anaconda3\\lib\\site-packages\\lightgbm\\engine.py:620: UserWarning: 'verbose_eval' argument is deprecated and will be removed in a future release of LightGBM. Pass 'log_evaluation()' callback via 'callbacks' argument instead.\n",
      "  _log_warning(\"'verbose_eval' argument is deprecated and will be removed in a future release of LightGBM. \"\n"
     ]
    },
    {
     "name": "stdout",
     "output_type": "stream",
     "text": [
      "[1000]\tcv_agg's rmse: 2.39214 + 0.0467906\n",
      "[2000]\tcv_agg's rmse: 2.34916 + 0.0456074\n",
      "| \u001b[0m 10      \u001b[0m | \u001b[0m-2.349   \u001b[0m | \u001b[0m 0.7871  \u001b[0m | \u001b[0m 0.7837  \u001b[0m | \u001b[0m 84.2    \u001b[0m | \u001b[0m 3.087e+0\u001b[0m | \u001b[0m 589.0   \u001b[0m |\n"
     ]
    },
    {
     "name": "stderr",
     "output_type": "stream",
     "text": [
      "C:\\Users\\superman\\anaconda3\\lib\\site-packages\\lightgbm\\engine.py:573: UserWarning: Found `num_iterations` in params. Will use it instead of argument\n",
      "  _log_warning(f\"Found `{alias}` in params. Will use it instead of argument\")\n",
      "C:\\Users\\superman\\anaconda3\\lib\\site-packages\\lightgbm\\engine.py:620: UserWarning: 'verbose_eval' argument is deprecated and will be removed in a future release of LightGBM. Pass 'log_evaluation()' callback via 'callbacks' argument instead.\n",
      "  _log_warning(\"'verbose_eval' argument is deprecated and will be removed in a future release of LightGBM. \"\n"
     ]
    },
    {
     "name": "stdout",
     "output_type": "stream",
     "text": [
      "[1000]\tcv_agg's rmse: 2.39449 + 0.047093\n",
      "| \u001b[0m 11      \u001b[0m | \u001b[0m-2.349   \u001b[0m | \u001b[0m 0.8787  \u001b[0m | \u001b[0m 0.758   \u001b[0m | \u001b[0m 76.26   \u001b[0m | \u001b[0m 3.121e+0\u001b[0m | \u001b[0m 619.5   \u001b[0m |\n"
     ]
    },
    {
     "name": "stderr",
     "output_type": "stream",
     "text": [
      "C:\\Users\\superman\\anaconda3\\lib\\site-packages\\lightgbm\\engine.py:573: UserWarning: Found `num_iterations` in params. Will use it instead of argument\n",
      "  _log_warning(f\"Found `{alias}` in params. Will use it instead of argument\")\n",
      "C:\\Users\\superman\\anaconda3\\lib\\site-packages\\lightgbm\\engine.py:620: UserWarning: 'verbose_eval' argument is deprecated and will be removed in a future release of LightGBM. Pass 'log_evaluation()' callback via 'callbacks' argument instead.\n",
      "  _log_warning(\"'verbose_eval' argument is deprecated and will be removed in a future release of LightGBM. \"\n"
     ]
    },
    {
     "name": "stdout",
     "output_type": "stream",
     "text": [
      "[1000]\tcv_agg's rmse: 2.39311 + 0.0463491\n",
      "| \u001b[95m 12      \u001b[0m | \u001b[95m-2.347   \u001b[0m | \u001b[95m 0.8584  \u001b[0m | \u001b[95m 0.7225  \u001b[0m | \u001b[95m 72.29   \u001b[0m | \u001b[95m 3.079e+0\u001b[0m | \u001b[95m 601.6   \u001b[0m |\n"
     ]
    },
    {
     "name": "stderr",
     "output_type": "stream",
     "text": [
      "C:\\Users\\superman\\anaconda3\\lib\\site-packages\\lightgbm\\engine.py:573: UserWarning: Found `num_iterations` in params. Will use it instead of argument\n",
      "  _log_warning(f\"Found `{alias}` in params. Will use it instead of argument\")\n",
      "C:\\Users\\superman\\anaconda3\\lib\\site-packages\\lightgbm\\engine.py:620: UserWarning: 'verbose_eval' argument is deprecated and will be removed in a future release of LightGBM. Pass 'log_evaluation()' callback via 'callbacks' argument instead.\n",
      "  _log_warning(\"'verbose_eval' argument is deprecated and will be removed in a future release of LightGBM. \"\n"
     ]
    },
    {
     "name": "stdout",
     "output_type": "stream",
     "text": [
      "[1000]\tcv_agg's rmse: 2.41732 + 0.0504164\n",
      "[2000]\tcv_agg's rmse: 2.35502 + 0.0458013\n",
      "| \u001b[0m 13      \u001b[0m | \u001b[0m-2.352   \u001b[0m | \u001b[0m 0.868   \u001b[0m | \u001b[0m 0.7309  \u001b[0m | \u001b[0m 89.69   \u001b[0m | \u001b[0m 2.974e+0\u001b[0m | \u001b[0m 234.6   \u001b[0m |\n"
     ]
    },
    {
     "name": "stderr",
     "output_type": "stream",
     "text": [
      "C:\\Users\\superman\\anaconda3\\lib\\site-packages\\lightgbm\\engine.py:573: UserWarning: Found `num_iterations` in params. Will use it instead of argument\n",
      "  _log_warning(f\"Found `{alias}` in params. Will use it instead of argument\")\n",
      "C:\\Users\\superman\\anaconda3\\lib\\site-packages\\lightgbm\\engine.py:620: UserWarning: 'verbose_eval' argument is deprecated and will be removed in a future release of LightGBM. Pass 'log_evaluation()' callback via 'callbacks' argument instead.\n",
      "  _log_warning(\"'verbose_eval' argument is deprecated and will be removed in a future release of LightGBM. \"\n"
     ]
    },
    {
     "name": "stdout",
     "output_type": "stream",
     "text": [
      "[1000]\tcv_agg's rmse: 2.39187 + 0.0486199\n",
      "| \u001b[0m 14      \u001b[0m | \u001b[0m-2.354   \u001b[0m | \u001b[0m 0.7281  \u001b[0m | \u001b[0m 0.8851  \u001b[0m | \u001b[0m 96.41   \u001b[0m | \u001b[0m 3.105e+0\u001b[0m | \u001b[0m 585.4   \u001b[0m |\n"
     ]
    },
    {
     "name": "stderr",
     "output_type": "stream",
     "text": [
      "C:\\Users\\superman\\anaconda3\\lib\\site-packages\\lightgbm\\engine.py:573: UserWarning: Found `num_iterations` in params. Will use it instead of argument\n",
      "  _log_warning(f\"Found `{alias}` in params. Will use it instead of argument\")\n",
      "C:\\Users\\superman\\anaconda3\\lib\\site-packages\\lightgbm\\engine.py:620: UserWarning: 'verbose_eval' argument is deprecated and will be removed in a future release of LightGBM. Pass 'log_evaluation()' callback via 'callbacks' argument instead.\n",
      "  _log_warning(\"'verbose_eval' argument is deprecated and will be removed in a future release of LightGBM. \"\n"
     ]
    },
    {
     "name": "stdout",
     "output_type": "stream",
     "text": [
      "[1000]\tcv_agg's rmse: 2.39234 + 0.0456008\n",
      "[2000]\tcv_agg's rmse: 2.34491 + 0.0445507\n",
      "| \u001b[95m 15      \u001b[0m | \u001b[95m-2.345   \u001b[0m | \u001b[95m 0.822   \u001b[0m | \u001b[95m 0.7343  \u001b[0m | \u001b[95m 65.67   \u001b[0m | \u001b[95m 3.116e+0\u001b[0m | \u001b[95m 605.2   \u001b[0m |\n",
      "=====================================================================================\n"
     ]
    }
   ],
   "source": [
    "# tuning할 hyper parameter들의 범위 지정\n",
    "\n",
    "pds = {\n",
    "    'max_depth': (4, 100),\n",
    "    'num_leaves': (20, 1000),\n",
    "    'feature_fraction': (0.7, 0.9),\n",
    "    'bagging_fraction': (0.7, 0.9),\n",
    "    'num_iterations': (1000, 8000)\n",
    "}\n",
    "optimizer = BayesianOptimization(hyp_lgbm, pds, random_state=23)\n",
    "optimizer.maximize(init_points=init_iter, n_iter=n_iters, acq='ei', random_state=23)"
   ]
  },
  {
   "cell_type": "code",
   "execution_count": 59,
   "id": "b927021d-6092-4ab2-b828-c6fe4ba36a14",
   "metadata": {
    "id": "b927021d-6092-4ab2-b828-c6fe4ba36a14",
    "outputId": "4ddb12aa-e2da-46fb-e394-9e58a6655bd6"
   },
   "outputs": [
    {
     "data": {
      "text/plain": [
       "{'bagging_fraction': 0.8219650047349388,\n",
       " 'feature_fraction': 0.7343197162276959,\n",
       " 'max_depth': 65.66801926212803,\n",
       " 'num_iterations': 3115.7913990928723,\n",
       " 'num_leaves': 605.1839699481119}"
      ]
     },
     "execution_count": 59,
     "metadata": {},
     "output_type": "execute_result"
    }
   ],
   "source": [
    "# tuning된 hyper parameter 확인\n",
    "\n",
    "optimizer.max['params']"
   ]
  },
  {
   "cell_type": "code",
   "execution_count": 60,
   "id": "cd4b0a4e-d5ed-43e2-a214-d543985267c0",
   "metadata": {
    "colab": {
     "base_uri": "https://localhost:8080/"
    },
    "id": "cd4b0a4e-d5ed-43e2-a214-d543985267c0",
    "outputId": "aea3b390-584f-4413-84bd-167c99a885c6",
    "tags": []
   },
   "outputs": [
    {
     "name": "stderr",
     "output_type": "stream",
     "text": [
      "C:\\Users\\superman\\anaconda3\\lib\\site-packages\\lightgbm\\engine.py:177: UserWarning: Found `num_iterations` in params. Will use it instead of argument\n",
      "  _log_warning(f\"Found `{alias}` in params. Will use it instead of argument\")\n",
      "C:\\Users\\superman\\anaconda3\\lib\\site-packages\\lightgbm\\engine.py:181: UserWarning: 'early_stopping_rounds' argument is deprecated and will be removed in a future release of LightGBM. Pass 'early_stopping()' callback via 'callbacks' argument instead.\n",
      "  _log_warning(\"'early_stopping_rounds' argument is deprecated and will be removed in a future release of LightGBM. \"\n",
      "C:\\Users\\superman\\anaconda3\\lib\\site-packages\\lightgbm\\engine.py:239: UserWarning: 'verbose_eval' argument is deprecated and will be removed in a future release of LightGBM. Pass 'log_evaluation()' callback via 'callbacks' argument instead.\n",
      "  _log_warning(\"'verbose_eval' argument is deprecated and will be removed in a future release of LightGBM. \"\n",
      "C:\\Users\\superman\\anaconda3\\lib\\site-packages\\lightgbm\\callback.py:223: UserWarning: Early stopping is not available in dart mode\n",
      "  _log_warning('Early stopping is not available in dart mode')\n"
     ]
    },
    {
     "name": "stdout",
     "output_type": "stream",
     "text": [
      "[500]\tvalid_0's rmse: 3.57779\n",
      "[1000]\tvalid_0's rmse: 3.12015\n",
      "[1500]\tvalid_0's rmse: 2.87398\n",
      "[2000]\tvalid_0's rmse: 2.68873\n",
      "[2500]\tvalid_0's rmse: 2.56455\n",
      "[3000]\tvalid_0's rmse: 2.52062\n"
     ]
    }
   ],
   "source": [
    "# LGBM으로 학습\n",
    "\n",
    "X_train, X_test, y_train, y_test = train_test_split(X_train, y_train, test_size=0.2, random_state=23)\n",
    "train_dataset = lgb.Dataset(X_train, label=y_train)\n",
    "test_dataset = lgb.Dataset(X_test, label=y_test)\n",
    "\n",
    "params = {\n",
    "    'bagging_fraction': 0.8219650047349388,\n",
    "    'feature_fraction': 0.7343197162276959,\n",
    "    'max_depth': int(round(65.66801926212803)),\n",
    "    'num_iterations': int(round(3115.7913990928723)),\n",
    "    'num_leaves': int(round(605.1839699481119)),\n",
    "    'learning_rate': 0.003,\n",
    "    #'boosting': 'gbdt',\n",
    "    'boosting': 'dart',\n",
    "    'metric': 'rmse',\n",
    "    'objective': 'regression',\n",
    "    'verbose': -1,\n",
    "    'n_jobs': -1\n",
    "}\n",
    "\n",
    "model = lgb.train(params, train_dataset, 3116, test_dataset, verbose_eval=500, early_stopping_rounds=100)"
   ]
  },
  {
   "cell_type": "code",
   "execution_count": 61,
   "id": "8d933b2c-3dd1-4f09-9703-555254f41cf7",
   "metadata": {
    "id": "8d933b2c-3dd1-4f09-9703-555254f41cf7"
   },
   "outputs": [
    {
     "data": {
      "text/plain": [
       "array([ 3.01399986e+00,  6.63235608e+00,  1.96617361e+00, ...,\n",
       "        5.03494492e-02,  5.52224213e-02, -1.50027541e-03])"
      ]
     },
     "execution_count": 61,
     "metadata": {},
     "output_type": "execute_result"
    }
   ],
   "source": [
    "# 학습 결괏값 저장\n",
    "\n",
    "y_pred = model.predict(X_test_pred)\n",
    "y_pred"
   ]
  },
  {
   "cell_type": "code",
   "execution_count": 62,
   "id": "0f49cae8-3203-43e6-bf7d-eab668d10502",
   "metadata": {
    "id": "0f49cae8-3203-43e6-bf7d-eab668d10502"
   },
   "outputs": [],
   "source": [
    "# 0 미만의 값은 0으로 처리\n",
    "\n",
    "def return_0(x):\n",
    "    if x < 0:\n",
    "        return 0\n",
    "    else:\n",
    "        return x"
   ]
  },
  {
   "cell_type": "code",
   "execution_count": 63,
   "id": "c1732d81-ed60-4a6b-ac78-d5aed7abbb49",
   "metadata": {
    "id": "c1732d81-ed60-4a6b-ac78-d5aed7abbb49"
   },
   "outputs": [],
   "source": [
    "# 저장\n",
    "\n",
    "submission = pd.read_csv('data/submission_sample.csv')\n",
    "submission['18~20_ride'] = y_pred\n",
    "submission['18~20_ride'] = submission['18~20_ride'].apply(return_0)\n",
    "submission.to_csv(\"last_model_v60.csv\",index=False)"
   ]
  },
  {
   "cell_type": "code",
   "execution_count": null,
   "id": "9itLVIO9jki0",
   "metadata": {
    "id": "9itLVIO9jki0"
   },
   "outputs": [],
   "source": []
  }
 ],
 "metadata": {
  "colab": {
   "collapsed_sections": [],
   "name": "last_model_v1_n_1-Copy2_2.ipynb",
   "provenance": []
  },
  "kernelspec": {
   "display_name": "Python 3",
   "language": "python",
   "name": "python3"
  },
  "language_info": {
   "codemirror_mode": {
    "name": "ipython",
    "version": 3
   },
   "file_extension": ".py",
   "mimetype": "text/x-python",
   "name": "python",
   "nbconvert_exporter": "python",
   "pygments_lexer": "ipython3",
   "version": "3.8.8"
  }
 },
 "nbformat": 4,
 "nbformat_minor": 5
}
